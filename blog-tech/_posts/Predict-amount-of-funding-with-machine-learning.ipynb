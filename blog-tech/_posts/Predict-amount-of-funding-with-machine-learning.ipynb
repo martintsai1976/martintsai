{
 "cells": [
  {
   "cell_type": "code",
   "execution_count": 1,
   "metadata": {},
   "outputs": [],
   "source": [
    "import numpy as np \n",
    "import pandas as pd\n",
    "import seaborn as sns\n",
    "import matplotlib.pyplot as plt\n",
    "%matplotlib inline\n",
    "import warnings\n",
    "warnings.filterwarnings(\"ignore\")\n",
    "from sklearn.model_selection import GridSearchCV\n",
    "\n",
    "import os\n",
    "from datetime import datetime\n",
    "from pathlib import Path\n",
    "import sys\n",
    "import xlrd\n",
    "import pycountry\n",
    "from statistics import mean\n",
    "\n",
    "from sklearn.model_selection import cross_val_score\n",
    "from sklearn.linear_model import LinearRegression\n",
    "from sklearn.preprocessing import PolynomialFeatures\n",
    "from sklearn.pipeline import make_pipeline\n",
    "from sklearn.tree import DecisionTreeRegressor\n",
    "from sklearn.ensemble import RandomForestRegressor\n",
    "from sklearn.ensemble import GradientBoostingRegressor\n",
    "from sklearn.metrics import r2_score"
   ]
  },
  {
   "cell_type": "markdown",
   "metadata": {},
   "source": [
    "# Add GDP Data\n",
    "\n",
    "Here we follow the steps we did in Question 1 and create three new columns with the GDP data:\n",
    "\n",
    "* `gdp_year_founded`: The GDP in the year startups founded.\n",
    "* `gdp_growth_year_founded`: The GDP growth in the year startups founded.\n",
    "* `avg_gdp_growth`: The average GDP growth between the first funding time and the last funding time.\n",
    "\n",
    "The goal of this assignment is to create a model that can predict the amount of funding a start-up has received / will receive. These predictions will be done on the basis of several characteristics. In addition to the given dataset, we also looked for other data that could improve the quality of the model. We found a dataset that contains the GDP per country per year. We decided to add this data to the original dataset, because we think there might be a relationship between a country's GDP and the amount of funding that is available for start-ups within that country. "
   ]
  },
  {
   "cell_type": "code",
   "execution_count": 2,
   "metadata": {},
   "outputs": [],
   "source": [
    "df = pd.read_csv('group-project-data.csv')\n",
    "df[\"year_founded\"] = df.apply(lambda x: datetime.strptime(x[\"founded_at\"], '%Y-%m-%d %H:%M:%S').date().year, axis=1)\n",
    "df[\"year_first_funding\"] = df.apply(lambda x: datetime.strptime(x[\"first_funding_at\"], '%Y-%m-%d %H:%M:%S').date().year, axis=1)\n",
    "df[\"year_last_funding\"] = df.apply(lambda x: datetime.strptime(x[\"last_funding_at\"], '%Y-%m-%d %H:%M:%S').date().year, axis=1)\n",
    "\n",
    "gdp_data_df = pd.read_excel('gdp_data.xls')\n",
    "gdp_data_df = gdp_data_df[gdp_data_df[\"IndicatorName\"] == \"Gross Domestic Product (GDP)\"]\n",
    "gdp_year_founding = []\n",
    "for year, country in zip(df[\"year_founded\"], df[\"country_code\"]):\n",
    "    country_in_pycountry = pycountry.countries.get(alpha_3=country)\n",
    "    if country_in_pycountry:\n",
    "        country_name = country_in_pycountry.name\n",
    "        country_data = gdp_data_df[gdp_data_df[\"Country\"] == country_name]\n",
    "        gdp_year = country_data[year].values\n",
    "        if len (gdp_year) > 0:\n",
    "            gdp_year = gdp_year[0]\n",
    "        else:\n",
    "            gdp_year = np.nan\n",
    "        gdp_year_founding.append(gdp_year)\n",
    "    else:\n",
    "        gdp_year_founding.append(np.nan)\n",
    "df[\"gdp_year_founded\"] = gdp_year_founding\n",
    "\n",
    "gdp_growth_data_df = pd.read_excel('gdp_growth.xls')\n",
    "gdp_growth_data_df = gdp_growth_data_df[gdp_growth_data_df[\"IndicatorName\"] == \"Gross Domestic Product (GDP)\"]\n",
    "gdp_growth_year_founding = []\n",
    "for year, country in zip(df[\"year_founded\"], df[\"country_code\"]):\n",
    "    country_in_pycountry = pycountry.countries.get(alpha_3=country)\n",
    "    if country_in_pycountry:\n",
    "        country_name = country_in_pycountry.name\n",
    "        country_data = gdp_growth_data_df[gdp_growth_data_df[\"Country\"] == country_name]\n",
    "        gdp_year = country_data[year].values\n",
    "        if len (gdp_year) > 0:\n",
    "            gdp_year = gdp_year[0]\n",
    "        else:\n",
    "            gdp_year = np.nan\n",
    "        gdp_growth_year_founding.append(gdp_year)\n",
    "    else:\n",
    "        gdp_growth_year_founding.append(np.nan)\n",
    "df[\"gdp_growth_year_founded\"] = gdp_growth_year_founding\n",
    "\n",
    "avg_gdp_growth_first_last_funding = []\n",
    "for year_first_funding, year_last_funding, country in zip(df[\"year_first_funding\"], df[\"year_last_funding\"], df[\"country_code\"]):\n",
    "    country_in_pycountry = pycountry.countries.get(alpha_3=country)\n",
    "    if country_in_pycountry:\n",
    "        country_name = country_in_pycountry.name\n",
    "        country_data = gdp_growth_data_df[gdp_growth_data_df[\"Country\"] == country_name]\n",
    "        gdp_growth_list = []\n",
    "        for year in range(year_first_funding, year_last_funding + 1):\n",
    "            gdp_growth_current_year = country_data[year].values\n",
    "            if len(gdp_growth_current_year) > 0:\n",
    "                gdp_growth_list.append(gdp_growth_current_year)\n",
    "        if len(gdp_growth_list) > 0:\n",
    "            avg_gdp_growth = np.mean(gdp_growth_list)\n",
    "            avg_gdp_growth_first_last_funding.append(avg_gdp_growth)\n",
    "        else:\n",
    "            avg_gdp_growth_first_last_funding.append(np.nan)\n",
    "    else:\n",
    "        avg_gdp_growth_first_last_funding.append(np.nan)\n",
    "df[\"avg_gdp_growth\"] = avg_gdp_growth_first_last_funding\n",
    "\n",
    "df.drop(columns=['year_founded', 'year_first_funding', 'year_last_funding'], inplace=True)"
   ]
  },
  {
   "cell_type": "markdown",
   "metadata": {},
   "source": [
    "# Data Exploration"
   ]
  },
  {
   "cell_type": "markdown",
   "metadata": {},
   "source": [
    "### Overview\n",
    "In this section, we looked at the datatype of each variable and we had a brief look at the data in general. In total, this dataset contains 17 columns. Eight of them contain null values, and five of them are numerical.\n",
    "\n",
    "After scanning through the data in each column, we decided to take the following steps:\n",
    "\n",
    "* The `name` and `homepage_url` columns only contain unique values (the start-ups do not have the same names or URLs). Therefore, they are not useful for building a machine learning model. To solve this issue, we decided to drop these columns.\n",
    "* The columns `founded_at`, `first_funding_at`, and `last_funding_at` have 'object' as datatype, but they should be treated as continuous data and they should be converted into a numerical data type. Therefore, we transformed these columns.\n",
    "* Last, we created a column `funding duration` which is calculated by the difference (in days) between `first_funding_at`, and `last_funding_at`. This column should benefit the model because we assume that a longer funding duration is likely to lead to a higher total funding amount."
   ]
  },
  {
   "cell_type": "code",
   "execution_count": 3,
   "metadata": {},
   "outputs": [
    {
     "name": "stdout",
     "output_type": "stream",
     "text": [
      "<class 'pandas.core.frame.DataFrame'>\n",
      "RangeIndex: 28729 entries, 0 to 28728\n",
      "Data columns (total 17 columns):\n",
      " #   Column                   Non-Null Count  Dtype  \n",
      "---  ------                   --------------  -----  \n",
      " 0   name                     28729 non-null  object \n",
      " 1   homepage_url             27563 non-null  object \n",
      " 2   category_list            27898 non-null  object \n",
      " 3   market                   27896 non-null  object \n",
      " 4   funding_total_usd        28729 non-null  float64\n",
      " 5   status                   28085 non-null  object \n",
      " 6   country_code             28729 non-null  object \n",
      " 7   state_code               20314 non-null  object \n",
      " 8   region                   28729 non-null  object \n",
      " 9   city                     28729 non-null  object \n",
      " 10  funding_rounds           28729 non-null  int64  \n",
      " 11  founded_at               28729 non-null  object \n",
      " 12  first_funding_at         28729 non-null  object \n",
      " 13  last_funding_at          28729 non-null  object \n",
      " 14  gdp_year_founded         28398 non-null  float64\n",
      " 15  gdp_growth_year_founded  28397 non-null  float64\n",
      " 16  avg_gdp_growth           28398 non-null  float64\n",
      "dtypes: float64(4), int64(1), object(12)\n",
      "memory usage: 3.7+ MB\n",
      "None\n"
     ]
    },
    {
     "data": {
      "text/html": [
       "<div>\n",
       "<style scoped>\n",
       "    .dataframe tbody tr th:only-of-type {\n",
       "        vertical-align: middle;\n",
       "    }\n",
       "\n",
       "    .dataframe tbody tr th {\n",
       "        vertical-align: top;\n",
       "    }\n",
       "\n",
       "    .dataframe thead th {\n",
       "        text-align: right;\n",
       "    }\n",
       "</style>\n",
       "<table border=\"1\" class=\"dataframe\">\n",
       "  <thead>\n",
       "    <tr style=\"text-align: right;\">\n",
       "      <th></th>\n",
       "      <th>name</th>\n",
       "      <th>homepage_url</th>\n",
       "      <th>category_list</th>\n",
       "      <th>market</th>\n",
       "      <th>funding_total_usd</th>\n",
       "      <th>status</th>\n",
       "      <th>country_code</th>\n",
       "      <th>state_code</th>\n",
       "      <th>region</th>\n",
       "      <th>city</th>\n",
       "      <th>funding_rounds</th>\n",
       "      <th>founded_at</th>\n",
       "      <th>first_funding_at</th>\n",
       "      <th>last_funding_at</th>\n",
       "      <th>gdp_year_founded</th>\n",
       "      <th>gdp_growth_year_founded</th>\n",
       "      <th>avg_gdp_growth</th>\n",
       "    </tr>\n",
       "  </thead>\n",
       "  <tbody>\n",
       "    <tr>\n",
       "      <th>0</th>\n",
       "      <td>#waywire</td>\n",
       "      <td>http://www.waywire.com</td>\n",
       "      <td>|Entertainment|Politics|Social Media|News|</td>\n",
       "      <td>News</td>\n",
       "      <td>1750000.0</td>\n",
       "      <td>acquired</td>\n",
       "      <td>USA</td>\n",
       "      <td>NY</td>\n",
       "      <td>New York City</td>\n",
       "      <td>New York</td>\n",
       "      <td>1</td>\n",
       "      <td>2012-06-01 00:00:00</td>\n",
       "      <td>2012-06-30 00:00:00</td>\n",
       "      <td>2012-06-30 00:00:00</td>\n",
       "      <td>1.619701e+13</td>\n",
       "      <td>2.249546</td>\n",
       "      <td>2.249546</td>\n",
       "    </tr>\n",
       "  </tbody>\n",
       "</table>\n",
       "</div>"
      ],
      "text/plain": [
       "       name            homepage_url  \\\n",
       "0  #waywire  http://www.waywire.com   \n",
       "\n",
       "                                category_list  market  funding_total_usd  \\\n",
       "0  |Entertainment|Politics|Social Media|News|   News           1750000.0   \n",
       "\n",
       "     status country_code state_code         region      city  funding_rounds  \\\n",
       "0  acquired          USA         NY  New York City  New York               1   \n",
       "\n",
       "            founded_at     first_funding_at      last_funding_at  \\\n",
       "0  2012-06-01 00:00:00  2012-06-30 00:00:00  2012-06-30 00:00:00   \n",
       "\n",
       "   gdp_year_founded  gdp_growth_year_founded  avg_gdp_growth  \n",
       "0      1.619701e+13                 2.249546        2.249546  "
      ]
     },
     "execution_count": 3,
     "metadata": {},
     "output_type": "execute_result"
    }
   ],
   "source": [
    "print(df.info())\n",
    "df.head(1)"
   ]
  },
  {
   "cell_type": "code",
   "execution_count": 4,
   "metadata": {},
   "outputs": [],
   "source": [
    "# Drop \"name\" and \"homepage_url\" columns\n",
    "df2 = df.drop(columns=['name', 'homepage_url'])\n",
    "\n",
    "# Convert three time variables to \"datetime\" type\n",
    "df2['founded_at'] = pd.to_datetime(df2['founded_at'], errors='coerce')\n",
    "df2['first_funding_at'] = pd.to_datetime(df2['first_funding_at'], errors='coerce')\n",
    "df2['last_funding_at'] = pd.to_datetime(df2['last_funding_at'], errors='coerce')\n",
    "\n",
    "# Add a column for the funding duration\n",
    "df2['funding_duration'] = (df2['last_funding_at'] - df2['first_funding_at']).apply(lambda x: x.days)\n",
    "\n",
    "# Convert three time variables to numeric values\n",
    "import datetime as dt\n",
    "df2['founded_at'] = df2['founded_at'].map(dt.datetime.toordinal)\n",
    "df2['first_funding_at'] = df2['first_funding_at'].map(dt.datetime.toordinal)\n",
    "df2['last_funding_at'] = df2['last_funding_at'].map(dt.datetime.toordinal)"
   ]
  },
  {
   "cell_type": "markdown",
   "metadata": {},
   "source": [
    "### Missing Data\n",
    "\n",
    "Here we calculate the ratios of missing values in each column and drop the `state_code` column because it has significantly higher missing ratio (29%) compared to other columns. Furthermore, we fill the missing values in the three GDP columns with the mean values of each colummn."
   ]
  },
  {
   "cell_type": "code",
   "execution_count": 5,
   "metadata": {},
   "outputs": [
    {
     "name": "stdout",
     "output_type": "stream",
     "text": [
      "                         Missing Ratio\n",
      "state_code                   29.290960\n",
      "market                        2.899509\n",
      "category_list                 2.892548\n",
      "status                        2.241637\n",
      "gdp_growth_year_founded       1.155627\n",
      "avg_gdp_growth                1.152146\n",
      "gdp_year_founded              1.152146\n"
     ]
    }
   ],
   "source": [
    "# Calculate the ratios of missing values in each column\n",
    "all_data_na = (df2.isnull().sum() / len(df2)) * 100\n",
    "all_data_na = all_data_na.drop(all_data_na[all_data_na == 0].index).sort_values(ascending=False)\n",
    "missing_data = pd.DataFrame({'Missing Ratio': all_data_na})\n",
    "print(missing_data)\n",
    "\n",
    "# Drop \"state_code\" column that has extremely high missing ratio comparing to other columns\n",
    "df3 = df2.drop(columns='state_code')\n",
    "\n",
    "# Fill missing values in three GDP columns \n",
    "df3['gdp_growth_year_founded'].fillna(df3['gdp_growth_year_founded'].mean(), inplace=True)\n",
    "df3['avg_gdp_growth'].fillna(df3['avg_gdp_growth'].mean(), inplace=True)\n",
    "df3['gdp_year_founded'].fillna(df3['gdp_year_founded'].mean(), inplace=True)"
   ]
  },
  {
   "cell_type": "markdown",
   "metadata": {},
   "source": [
    "### Examining Numerical Variables\n",
    "\n",
    "Here we check the correlations between all numerical variables and the target variable based on the Pearson correlation coefficient. The heatmap indicates that `gdp_year_founded` has by far the lowest correlation with the target variable (-4.3e-06) and that `funding_rounds` and `funding duration` have a high correlation with the target variable.\n",
    "\n",
    "Therefore, we decided to keep all numerical variables except for `gdp_year_founded`."
   ]
  },
  {
   "cell_type": "code",
   "execution_count": 6,
   "metadata": {},
   "outputs": [
    {
     "data": {
      "image/png": "[encoded data removed]",
      "text/plain": [
       "<Figure size 576x432 with 2 Axes>"
      ]
     },
     "metadata": {
      "needs_background": "light"
     },
     "output_type": "display_data"
    }
   ],
   "source": [
    "corrmat = df3.corr()\n",
    "plt.subplots(figsize=(8,6))\n",
    "sns.heatmap(corrmat, center=0, annot=True);\n",
    "\n",
    "df4 = df3.drop(columns='gdp_year_founded')"
   ]
  },
  {
   "cell_type": "markdown",
   "metadata": {},
   "source": [
    "### Examining Categorical Variables\n",
    "\n",
    "To prevent categorical variable from having too many levels/categories (which has a negative impact on the performance of the model), we decided to assign all categorical items with a lower frequency than 5% to the same category."
   ]
  },
  {
   "cell_type": "code",
   "execution_count": 7,
   "metadata": {},
   "outputs": [],
   "source": [
    "from pandas.core.common import SettingWithCopyWarning\n",
    "warnings.simplefilter(action=\"ignore\", category=SettingWithCopyWarning)\n",
    "\n",
    "def binding(col):\n",
    "    df4.loc[(df4[col].map(df[col].value_counts()) / len(df3)) <= 0.05, col] = 'Other'\n",
    "\n",
    "col_cat = ['category_list', 'market', 'status', 'country_code', 'region', 'city']\n",
    "for col in col_cat:\n",
    "    binding(col)"
   ]
  },
  {
   "cell_type": "markdown",
   "metadata": {},
   "source": [
    "# Final Preparations"
   ]
  },
  {
   "cell_type": "markdown",
   "metadata": {},
   "source": [
    "### Train-Test Split\n",
    "In this section, we create a training and test set. We did this before dropping any observation (row) to ensure that the distribution of test data is close to the real situation."
   ]
  },
  {
   "cell_type": "code",
   "execution_count": 8,
   "metadata": {},
   "outputs": [],
   "source": [
    "from sklearn.model_selection import train_test_split\n",
    "\n",
    "X = df4.drop(columns='funding_total_usd')\n",
    "y = df4['funding_total_usd']\n",
    "\n",
    "X_train, X_test, y_train, y_test = train_test_split(X, y, train_size=0.8, random_state=42)"
   ]
  },
  {
   "cell_type": "markdown",
   "metadata": {},
   "source": [
    "### Missing Data in the Training Set\n",
    "\n",
    "Here, we drop observations (rows) from the training set that contain missing values. First we calculated the ratio of rows with missing values in the training set. Because this was a relatively low ratio (lower than 5%), we decided it would be best to delete them."
   ]
  },
  {
   "cell_type": "code",
   "execution_count": 9,
   "metadata": {},
   "outputs": [
    {
     "name": "stdout",
     "output_type": "stream",
     "text": [
      "Ratio of rows with missing values:\n",
      "0.04825305660705739\n"
     ]
    }
   ],
   "source": [
    "train = pd.concat([X_train, y_train], axis=1)\n",
    "\n",
    "# Ratio of rows with missing values\n",
    "print('Ratio of rows with missing values:')\n",
    "print(len(train[train.isna().any(axis=1)]) / len(train))\n",
    "\n",
    "# Remove all rows with missing values\n",
    "train2 = train[~train.isna().any(axis=1)]"
   ]
  },
  {
   "cell_type": "markdown",
   "metadata": {},
   "source": [
    "### Outliers\n",
    "\n",
    "Outliers can significantly affect the performance of the prediction model. Here we calculate the Z-score of each observation based on the target variable. It shows that around 0.8% of the values in the `funding_total` column are outliers. We decided to remove these from the training set to prevent distortion during the training process. "
   ]
  },
  {
   "cell_type": "code",
   "execution_count": 10,
   "metadata": {},
   "outputs": [
    {
     "name": "stdout",
     "output_type": "stream",
     "text": [
      "Percentage of outliers:\n",
      "0.0075432019749474\n"
     ]
    }
   ],
   "source": [
    "# Remove outliers based the on Z-scores of target variable\n",
    "from scipy.stats import zscore\n",
    "print('Percentage of outliers:')\n",
    "print(1 - len(train2[(zscore(train2['funding_total_usd']) <= 3) & (zscore(train2['funding_total_usd']) >= -3)]) / len(train2))\n",
    "train3 = train2[(zscore(train2['funding_total_usd']) <= 3) & (zscore(train2['funding_total_usd']) >= -3)]\n",
    "\n",
    "X_train = train3.drop(columns='funding_total_usd')\n",
    "y_train = train3['funding_total_usd']"
   ]
  },
  {
   "cell_type": "markdown",
   "metadata": {},
   "source": [
    "### Get Dummies\n",
    "\n",
    "Here we use One-Hot Encoding to transfer categorical data into numerical data for the modeling. For each variable, we dropped the first column to avoid multicollinearity. "
   ]
  },
  {
   "cell_type": "code",
   "execution_count": 11,
   "metadata": {},
   "outputs": [],
   "source": [
    "X_train = pd.get_dummies(X_train, drop_first=True)\n",
    "X_test = pd.get_dummies(X_test, drop_first=True)"
   ]
  },
  {
   "cell_type": "markdown",
   "metadata": {},
   "source": [
    "# Modelling\n",
    "\n",
    "Here we try the following four algorithms to build the model that can predict the amount of funding start-ups receive. We chose these four algorithms because they are suitable for predicting a continuous target variable.\n",
    "\n",
    "* LinearRegression\n",
    "* DecisionTreeRegressor\n",
    "* RandomForestRegressor\n",
    "* GradientBoostingRegressor  \n",
    "\n",
    "For each algorithm, we calculate the training and test scores with the default setting of each model. The training score is caculated with 5-fold cross-validation to reduce the bias and variance in the modelling process. The test score shows the R squared value between the predicted and expected values. These two scores enable us to check the generalizability of each model."
   ]
  },
  {
   "cell_type": "code",
   "execution_count": 12,
   "metadata": {},
   "outputs": [
    {
     "name": "stdout",
     "output_type": "stream",
     "text": [
      "<LinearRegression>\n",
      "training score: 0.3011\n",
      "testing  score: 0.1393\n",
      "\n",
      "<DecisionTreeRegressor>\n",
      "training score: -0.4172\n",
      "testing  score: -0.0312\n",
      "\n",
      "<RandomForestRegressor>\n",
      "training score: 0.2525\n",
      "testing  score: 0.1561\n",
      "\n",
      "<GradientBoostingRegressor>\n",
      "training score: 0.3317\n",
      "testing  score: 0.1664\n",
      "\n"
     ]
    }
   ],
   "source": [
    "mdl = [LinearRegression, DecisionTreeRegressor, RandomForestRegressor, GradientBoostingRegressor]\n",
    "\n",
    "for i in mdl:\n",
    "    model = i()\n",
    "    name = type(model).__name__\n",
    "    model.fit(X_train, y_train)\n",
    "    \n",
    "    train_score = cross_val_score(model, X_train, y_train, cv=5, n_jobs=-1).mean().round(4)\n",
    "    test_score = model.score(X_test, y_test).round(4)\n",
    "    \n",
    "    print(f'<{name}>')\n",
    "    print(f'training score: {train_score}')\n",
    "    print(f'testing  score: {test_score}')\n",
    "    print('')"
   ]
  },
  {
   "cell_type": "markdown",
   "metadata": {},
   "source": [
    "# Feature Importance\n",
    "\n",
    "In this section, we looked at the feature importance for the `LinearRegression` model and the `GradientBoostingRegressor` model because the first one is the only linear model and the second has the best performance among the three tree models. This was different per model.\n",
    "\n",
    "LinearRegression:\n",
    "* This model is basically built on only three variables `last_funding_at`, `first_funding_at`, and `funding_duration`. The rest variables create almost no value to the model.\n",
    "\n",
    "GradientBoostingRegressor:\n",
    "* In contrast with the linear model, `funding_duration`, `funding_rounds`, and `founded_rounds` are the three most important variables for this model."
   ]
  },
  {
   "cell_type": "code",
   "execution_count": 13,
   "metadata": {},
   "outputs": [
    {
     "data": {
      "image/png": "[encoded data removed]",
      "text/plain": [
       "<Figure size 864x432 with 1 Axes>"
      ]
     },
     "metadata": {
      "needs_background": "light"
     },
     "output_type": "display_data"
    }
   ],
   "source": [
    "model = LinearRegression()\n",
    "model.fit(X_train, y_train)\n",
    "\n",
    "feature_importance = np.absolute(model.coef_)\n",
    "sorted_idx = np.argsort(feature_importance)\n",
    "pos = np.arange(sorted_idx.shape[0]) + .5\n",
    "fig = plt.figure(figsize=(12, 6))\n",
    "plt.subplot(1, 2, 1)\n",
    "plt.barh(pos, feature_importance[sorted_idx], align='center')\n",
    "plt.yticks(pos, np.array(X_train.columns)[sorted_idx])\n",
    "plt.title('Feature Importance (LinearRegression)')\n",
    "plt.show()\n",
    "\n",
    "bad_col_lr = X_train.columns[sorted_idx]"
   ]
  },
  {
   "cell_type": "code",
   "execution_count": 14,
   "metadata": {},
   "outputs": [
    {
     "data": {
      "image/png": "[encoded data removed]",
      "text/plain": [
       "<Figure size 864x432 with 1 Axes>"
      ]
     },
     "metadata": {
      "needs_background": "light"
     },
     "output_type": "display_data"
    }
   ],
   "source": [
    "model = GradientBoostingRegressor()\n",
    "model.fit(X_train, y_train)\n",
    "\n",
    "feature_importance = model.feature_importances_\n",
    "sorted_idx = np.argsort(feature_importance)\n",
    "pos = np.arange(sorted_idx.shape[0]) + .5\n",
    "fig = plt.figure(figsize=(12, 6))\n",
    "plt.subplot(1, 2, 1)\n",
    "plt.barh(pos, feature_importance[sorted_idx], align='center')\n",
    "plt.yticks(pos, np.array(X_train.columns)[sorted_idx])\n",
    "plt.title('Feature Importance (GradientBoostingRegressor)')\n",
    "plt.show()\n",
    "\n",
    "bad_col_gbr = X_train.columns[sorted_idx]"
   ]
  },
  {
   "cell_type": "markdown",
   "metadata": {},
   "source": [
    "# Dropping less important features\n",
    "\n",
    "Here we examined if the performance of the models could be improved by dropping less important features. We used the insights from the previous section to select the features.\n",
    "\n",
    "We found out that dropping columns do not lead to a better performance in this case. Therefore, our final model is trained with all available columns."
   ]
  },
  {
   "cell_type": "markdown",
   "metadata": {},
   "source": [
    "### LinearRegression"
   ]
  },
  {
   "cell_type": "code",
   "execution_count": 15,
   "metadata": {},
   "outputs": [],
   "source": [
    "col = bad_col_lr    \n",
    "train_score_lr = []\n",
    "test_score_lr = []\n",
    "\n",
    "for i in range(len(col)):\n",
    "    X_train2 = X_train.drop(columns=col[:i])\n",
    "    X_test2 = X_test.drop(columns=col[:i])\n",
    "    X_train2 = pd.get_dummies(X_train2, drop_first=True)\n",
    "    X_test2 = pd.get_dummies(X_test2, drop_first=True)\n",
    "\n",
    "    # Modeling\n",
    "    model = LinearRegression()\n",
    "    model.fit(X_train2, y_train)\n",
    "    a = cross_val_score(model, X_train2, y_train, cv=5, n_jobs=-1).mean().round(4)\n",
    "    b = model.score(X_test2, y_test).round(4)\n",
    "\n",
    "    train_score_lr.append(a)\n",
    "    test_score_lr.append(b)"
   ]
  },
  {
   "cell_type": "code",
   "execution_count": 16,
   "metadata": {},
   "outputs": [
    {
     "data": {
      "image/png": "[encoded data removed]",
      "text/plain": [
       "<Figure size 432x288 with 1 Axes>"
      ]
     },
     "metadata": {
      "needs_background": "light"
     },
     "output_type": "display_data"
    },
    {
     "data": {
      "text/html": [
       "<div>\n",
       "<style scoped>\n",
       "    .dataframe tbody tr th:only-of-type {\n",
       "        vertical-align: middle;\n",
       "    }\n",
       "\n",
       "    .dataframe tbody tr th {\n",
       "        vertical-align: top;\n",
       "    }\n",
       "\n",
       "    .dataframe thead th {\n",
       "        text-align: right;\n",
       "    }\n",
       "</style>\n",
       "<table border=\"1\" class=\"dataframe\">\n",
       "  <thead>\n",
       "    <tr style=\"text-align: right;\">\n",
       "      <th></th>\n",
       "      <th>feature</th>\n",
       "      <th>train_score</th>\n",
       "      <th>test_score</th>\n",
       "    </tr>\n",
       "  </thead>\n",
       "  <tbody>\n",
       "    <tr>\n",
       "      <th>1</th>\n",
       "      <td>founded_at</td>\n",
       "      <td>0.3011</td>\n",
       "      <td>0.1393</td>\n",
       "    </tr>\n",
       "    <tr>\n",
       "      <th>2</th>\n",
       "      <td>category_list_|Software|</td>\n",
       "      <td>0.2743</td>\n",
       "      <td>0.1269</td>\n",
       "    </tr>\n",
       "    <tr>\n",
       "      <th>3</th>\n",
       "      <td>region_Other</td>\n",
       "      <td>0.2762</td>\n",
       "      <td>0.1271</td>\n",
       "    </tr>\n",
       "    <tr>\n",
       "      <th>4</th>\n",
       "      <td>gdp_growth_year_founded</td>\n",
       "      <td>0.2756</td>\n",
       "      <td>0.1271</td>\n",
       "    </tr>\n",
       "    <tr>\n",
       "      <th>5</th>\n",
       "      <td>country_code_Other</td>\n",
       "      <td>0.2726</td>\n",
       "      <td>0.1236</td>\n",
       "    </tr>\n",
       "    <tr>\n",
       "      <th>6</th>\n",
       "      <td>avg_gdp_growth</td>\n",
       "      <td>0.2715</td>\n",
       "      <td>0.1236</td>\n",
       "    </tr>\n",
       "    <tr>\n",
       "      <th>7</th>\n",
       "      <td>country_code_USA</td>\n",
       "      <td>0.2692</td>\n",
       "      <td>0.1226</td>\n",
       "    </tr>\n",
       "    <tr>\n",
       "      <th>8</th>\n",
       "      <td>city_Other</td>\n",
       "      <td>0.2689</td>\n",
       "      <td>0.1226</td>\n",
       "    </tr>\n",
       "    <tr>\n",
       "      <th>9</th>\n",
       "      <td>status_operating</td>\n",
       "      <td>0.2669</td>\n",
       "      <td>0.1225</td>\n",
       "    </tr>\n",
       "    <tr>\n",
       "      <th>10</th>\n",
       "      <td>status_closed</td>\n",
       "      <td>0.2700</td>\n",
       "      <td>0.1222</td>\n",
       "    </tr>\n",
       "    <tr>\n",
       "      <th>11</th>\n",
       "      <td>funding_rounds</td>\n",
       "      <td>0.2686</td>\n",
       "      <td>0.1220</td>\n",
       "    </tr>\n",
       "    <tr>\n",
       "      <th>12</th>\n",
       "      <td>city_San Francisco</td>\n",
       "      <td>0.2441</td>\n",
       "      <td>0.0921</td>\n",
       "    </tr>\n",
       "    <tr>\n",
       "      <th>13</th>\n",
       "      <td>region_SF Bay Area</td>\n",
       "      <td>0.2429</td>\n",
       "      <td>0.0907</td>\n",
       "    </tr>\n",
       "    <tr>\n",
       "      <th>14</th>\n",
       "      <td>category_list_|Biotechnology|</td>\n",
       "      <td>0.2369</td>\n",
       "      <td>0.0883</td>\n",
       "    </tr>\n",
       "    <tr>\n",
       "      <th>15</th>\n",
       "      <td>market_Other</td>\n",
       "      <td>0.2338</td>\n",
       "      <td>0.0999</td>\n",
       "    </tr>\n",
       "    <tr>\n",
       "      <th>16</th>\n",
       "      <td>market_ Software</td>\n",
       "      <td>0.2323</td>\n",
       "      <td>0.0995</td>\n",
       "    </tr>\n",
       "    <tr>\n",
       "      <th>17</th>\n",
       "      <td>funding_duration</td>\n",
       "      <td>0.2252</td>\n",
       "      <td>0.0992</td>\n",
       "    </tr>\n",
       "    <tr>\n",
       "      <th>18</th>\n",
       "      <td>first_funding_at</td>\n",
       "      <td>0.2313</td>\n",
       "      <td>0.0992</td>\n",
       "    </tr>\n",
       "    <tr>\n",
       "      <th>19</th>\n",
       "      <td>last_funding_at</td>\n",
       "      <td>0.0009</td>\n",
       "      <td>-0.0019</td>\n",
       "    </tr>\n",
       "  </tbody>\n",
       "</table>\n",
       "</div>"
      ],
      "text/plain": [
       "                          feature  train_score  test_score\n",
       "1                      founded_at       0.3011      0.1393\n",
       "2        category_list_|Software|       0.2743      0.1269\n",
       "3                    region_Other       0.2762      0.1271\n",
       "4         gdp_growth_year_founded       0.2756      0.1271\n",
       "5              country_code_Other       0.2726      0.1236\n",
       "6                  avg_gdp_growth       0.2715      0.1236\n",
       "7                country_code_USA       0.2692      0.1226\n",
       "8                      city_Other       0.2689      0.1226\n",
       "9                status_operating       0.2669      0.1225\n",
       "10                  status_closed       0.2700      0.1222\n",
       "11                 funding_rounds       0.2686      0.1220\n",
       "12             city_San Francisco       0.2441      0.0921\n",
       "13             region_SF Bay Area       0.2429      0.0907\n",
       "14  category_list_|Biotechnology|       0.2369      0.0883\n",
       "15                   market_Other       0.2338      0.0999\n",
       "16              market_ Software        0.2323      0.0995\n",
       "17               funding_duration       0.2252      0.0992\n",
       "18               first_funding_at       0.2313      0.0992\n",
       "19                last_funding_at       0.0009     -0.0019"
      ]
     },
     "execution_count": 16,
     "metadata": {},
     "output_type": "execute_result"
    }
   ],
   "source": [
    "df_lr = pd.DataFrame(data={'feature': bad_col_lr, 'train_score': train_score_lr, 'test_score': test_score_lr},\n",
    "                     index=np.arange(1,20))\n",
    "xlabel = np.arange(1,len(df_lr)+1)\n",
    "plt.plot(xlabel, df_lr['train_score'], label='train score')\n",
    "plt.plot(xlabel, df_lr['test_score'], label='test score')\n",
    "plt.xticks(np.arange(0, len(df_lr)+1, 1))\n",
    "plt.xlabel('Number of Dropped Features')\n",
    "plt.ylabel('R2 Score')\n",
    "plt.title('LinearRegression')\n",
    "plt.legend()\n",
    "plt.show()\n",
    "\n",
    "df_lr"
   ]
  },
  {
   "cell_type": "markdown",
   "metadata": {},
   "source": [
    "### GradientBoostingRegressor"
   ]
  },
  {
   "cell_type": "code",
   "execution_count": 17,
   "metadata": {},
   "outputs": [],
   "source": [
    "col = bad_col_gbr    \n",
    "train_score_gbr = []\n",
    "test_score_gbr = []\n",
    "\n",
    "for i in range(len(col)):\n",
    "    X_train2 = X_train.drop(columns=col[:i])\n",
    "    X_test2 = X_test.drop(columns=col[:i])\n",
    "    X_train2 = pd.get_dummies(X_train2, drop_first=True)\n",
    "    X_test2 = pd.get_dummies(X_test2, drop_first=True)\n",
    "\n",
    "    # Modeling\n",
    "    model = GradientBoostingRegressor()\n",
    "    model.fit(X_train2, y_train)\n",
    "    a = cross_val_score(model, X_train2, y_train, cv=5, n_jobs=-1).mean().round(4)\n",
    "    b = model.score(X_test2, y_test).round(4)\n",
    "\n",
    "    train_score_gbr.append(a)\n",
    "    test_score_gbr.append(b)"
   ]
  },
  {
   "cell_type": "code",
   "execution_count": 18,
   "metadata": {},
   "outputs": [
    {
     "data": {
      "image/png": "[encoded data removed]",
      "text/plain": [
       "<Figure size 432x288 with 1 Axes>"
      ]
     },
     "metadata": {
      "needs_background": "light"
     },
     "output_type": "display_data"
    },
    {
     "data": {
      "text/html": [
       "<div>\n",
       "<style scoped>\n",
       "    .dataframe tbody tr th:only-of-type {\n",
       "        vertical-align: middle;\n",
       "    }\n",
       "\n",
       "    .dataframe tbody tr th {\n",
       "        vertical-align: top;\n",
       "    }\n",
       "\n",
       "    .dataframe thead th {\n",
       "        text-align: right;\n",
       "    }\n",
       "</style>\n",
       "<table border=\"1\" class=\"dataframe\">\n",
       "  <thead>\n",
       "    <tr style=\"text-align: right;\">\n",
       "      <th></th>\n",
       "      <th>feature</th>\n",
       "      <th>train_score</th>\n",
       "      <th>test_score</th>\n",
       "    </tr>\n",
       "  </thead>\n",
       "  <tbody>\n",
       "    <tr>\n",
       "      <th>1</th>\n",
       "      <td>city_Other</td>\n",
       "      <td>0.3315</td>\n",
       "      <td>0.1668</td>\n",
       "    </tr>\n",
       "    <tr>\n",
       "      <th>2</th>\n",
       "      <td>category_list_|Software|</td>\n",
       "      <td>0.3316</td>\n",
       "      <td>0.1670</td>\n",
       "    </tr>\n",
       "    <tr>\n",
       "      <th>3</th>\n",
       "      <td>status_closed</td>\n",
       "      <td>0.3315</td>\n",
       "      <td>0.1659</td>\n",
       "    </tr>\n",
       "    <tr>\n",
       "      <th>4</th>\n",
       "      <td>country_code_Other</td>\n",
       "      <td>0.3319</td>\n",
       "      <td>0.1659</td>\n",
       "    </tr>\n",
       "    <tr>\n",
       "      <th>5</th>\n",
       "      <td>country_code_USA</td>\n",
       "      <td>0.3311</td>\n",
       "      <td>0.1670</td>\n",
       "    </tr>\n",
       "    <tr>\n",
       "      <th>6</th>\n",
       "      <td>status_operating</td>\n",
       "      <td>0.3310</td>\n",
       "      <td>0.1670</td>\n",
       "    </tr>\n",
       "    <tr>\n",
       "      <th>7</th>\n",
       "      <td>city_San Francisco</td>\n",
       "      <td>0.3315</td>\n",
       "      <td>0.1678</td>\n",
       "    </tr>\n",
       "    <tr>\n",
       "      <th>8</th>\n",
       "      <td>market_Other</td>\n",
       "      <td>0.3309</td>\n",
       "      <td>0.1673</td>\n",
       "    </tr>\n",
       "    <tr>\n",
       "      <th>9</th>\n",
       "      <td>region_Other</td>\n",
       "      <td>0.3298</td>\n",
       "      <td>0.1681</td>\n",
       "    </tr>\n",
       "    <tr>\n",
       "      <th>10</th>\n",
       "      <td>market_ Software</td>\n",
       "      <td>0.3294</td>\n",
       "      <td>0.1669</td>\n",
       "    </tr>\n",
       "    <tr>\n",
       "      <th>11</th>\n",
       "      <td>category_list_|Biotechnology|</td>\n",
       "      <td>0.3295</td>\n",
       "      <td>0.1648</td>\n",
       "    </tr>\n",
       "    <tr>\n",
       "      <th>12</th>\n",
       "      <td>first_funding_at</td>\n",
       "      <td>0.3295</td>\n",
       "      <td>0.1663</td>\n",
       "    </tr>\n",
       "    <tr>\n",
       "      <th>13</th>\n",
       "      <td>gdp_growth_year_founded</td>\n",
       "      <td>0.3287</td>\n",
       "      <td>0.1685</td>\n",
       "    </tr>\n",
       "    <tr>\n",
       "      <th>14</th>\n",
       "      <td>avg_gdp_growth</td>\n",
       "      <td>0.3305</td>\n",
       "      <td>0.1689</td>\n",
       "    </tr>\n",
       "    <tr>\n",
       "      <th>15</th>\n",
       "      <td>region_SF Bay Area</td>\n",
       "      <td>0.3221</td>\n",
       "      <td>0.1606</td>\n",
       "    </tr>\n",
       "    <tr>\n",
       "      <th>16</th>\n",
       "      <td>last_funding_at</td>\n",
       "      <td>0.3125</td>\n",
       "      <td>0.1503</td>\n",
       "    </tr>\n",
       "    <tr>\n",
       "      <th>17</th>\n",
       "      <td>founded_at</td>\n",
       "      <td>0.3040</td>\n",
       "      <td>0.1523</td>\n",
       "    </tr>\n",
       "    <tr>\n",
       "      <th>18</th>\n",
       "      <td>funding_rounds</td>\n",
       "      <td>0.2685</td>\n",
       "      <td>0.1388</td>\n",
       "    </tr>\n",
       "    <tr>\n",
       "      <th>19</th>\n",
       "      <td>funding_duration</td>\n",
       "      <td>0.2206</td>\n",
       "      <td>0.1024</td>\n",
       "    </tr>\n",
       "  </tbody>\n",
       "</table>\n",
       "</div>"
      ],
      "text/plain": [
       "                          feature  train_score  test_score\n",
       "1                      city_Other       0.3315      0.1668\n",
       "2        category_list_|Software|       0.3316      0.1670\n",
       "3                   status_closed       0.3315      0.1659\n",
       "4              country_code_Other       0.3319      0.1659\n",
       "5                country_code_USA       0.3311      0.1670\n",
       "6                status_operating       0.3310      0.1670\n",
       "7              city_San Francisco       0.3315      0.1678\n",
       "8                    market_Other       0.3309      0.1673\n",
       "9                    region_Other       0.3298      0.1681\n",
       "10              market_ Software        0.3294      0.1669\n",
       "11  category_list_|Biotechnology|       0.3295      0.1648\n",
       "12               first_funding_at       0.3295      0.1663\n",
       "13        gdp_growth_year_founded       0.3287      0.1685\n",
       "14                 avg_gdp_growth       0.3305      0.1689\n",
       "15             region_SF Bay Area       0.3221      0.1606\n",
       "16                last_funding_at       0.3125      0.1503\n",
       "17                     founded_at       0.3040      0.1523\n",
       "18                 funding_rounds       0.2685      0.1388\n",
       "19               funding_duration       0.2206      0.1024"
      ]
     },
     "execution_count": 18,
     "metadata": {},
     "output_type": "execute_result"
    }
   ],
   "source": [
    "df_gbr = pd.DataFrame(data={'feature': bad_col_gbr, 'train_score': train_score_gbr, 'test_score': test_score_gbr},\n",
    "                      index=np.arange(1,20))\n",
    "xlabel = np.arange(1,len(df_lr)+1)\n",
    "plt.plot(xlabel, df_gbr['train_score'], label='train score')\n",
    "plt.plot(xlabel, df_gbr['test_score'], label='test score')\n",
    "plt.xticks(np.arange(0, len(df_lr)+1, 1))\n",
    "plt.xlabel('Number of Dropped Features')\n",
    "plt.ylabel('R2 Score')\n",
    "plt.title('GradientBoostingRegressor')\n",
    "plt.legend()\n",
    "plt.show()\n",
    "\n",
    "df_gbr"
   ]
  },
  {
   "cell_type": "markdown",
   "metadata": {},
   "source": [
    "# Hyperparameter tuning\n",
    "Here we test different hyperparameters for the models in an attempt to improve their performance. We do this by using `Grid Search` so that we test multiple combinations at the same time. Besides, we do not look at the test scores during the Grid Search because you should never do this when choosing your hyperparamaters to avoid overfitting on the test set.\n",
    "\n",
    "LinearRegression:\n",
    "* For LinearRegression, we want to know whether the performance can be improved by adding `PolynomialFeatures` (which is essentially a variable transformation method) and by changing the settings of `fit_intercept` and `normalize`. \n",
    "* The results show that the 5-fold CV training scores are slightly better when adding the PolynomialFeatures with 3 degrees. \n",
    "\n",
    "GradientBoostingRegressor:\n",
    "* For the GradientBoostingRegressor, we want to know whether the performance can be improved by changing the `learning_rate` and `n_estimators`. \n",
    "* The results show that the best parameters are {'learning_rate': 0.11, 'n_estimators': 100}. However, after changing to these parameters, the testing score is slightly lower than the score from the oringinal settings. It shows that there is an overfitting problem with the tuned parameters. Therefore, we conclude that the model already performed well with original setting and does not require further adjustments."
   ]
  },
  {
   "cell_type": "markdown",
   "metadata": {},
   "source": [
    "### LinearRegression"
   ]
  },
  {
   "cell_type": "code",
   "execution_count": 19,
   "metadata": {},
   "outputs": [
    {
     "name": "stdout",
     "output_type": "stream",
     "text": [
      "Best Hyperparameter (LinearRegression):\n",
      "{'linearregression__fit_intercept': False, 'linearregression__normalize': True, 'polynomialfeatures__degree': 3}\n",
      "training score: 0.3102\n"
     ]
    }
   ],
   "source": [
    "# Grid Search\n",
    "param_grid = {'polynomialfeatures__degree': [1,2,3],\n",
    "              'linearregression__fit_intercept': [True, False],\n",
    "              'linearregression__normalize': [True, False]}\n",
    "grid_lr = GridSearchCV(make_pipeline(PolynomialFeatures(), LinearRegression()), param_grid, cv=5)\n",
    "grid_lr.fit(X_train, y_train)\n",
    "train_score = grid_lr.best_score_.round(4)\n",
    "\n",
    "print('Best Hyperparameter (LinearRegression):')\n",
    "print(grid_lr.best_params_)\n",
    "print(f'training score: {train_score}')"
   ]
  },
  {
   "cell_type": "code",
   "execution_count": 20,
   "metadata": {},
   "outputs": [
    {
     "name": "stdout",
     "output_type": "stream",
     "text": [
      "<LinearRegression>\n",
      "testing score before fine tuning:\n",
      "0.1393\n",
      "testing score after  fine tuning:\n",
      "0.149\n"
     ]
    }
   ],
   "source": [
    "# Compare to original parameters\n",
    "model_1 = LinearRegression().fit(X_train, y_train)\n",
    "test_score_1 = model_1.score(X_test, y_test).round(4)\n",
    "\n",
    "model_2 = grid_lr.best_estimator_\n",
    "test_score_2 = model_2.score(X_test, y_test).round(4)\n",
    "\n",
    "print('<LinearRegression>')\n",
    "print('testing score before fine tuning:')\n",
    "print(test_score_1)\n",
    "print('testing score after  fine tuning:')\n",
    "print(test_score_2)"
   ]
  },
  {
   "cell_type": "markdown",
   "metadata": {},
   "source": [
    "### GradientBoostingRegressor"
   ]
  },
  {
   "cell_type": "code",
   "execution_count": 21,
   "metadata": {},
   "outputs": [
    {
     "name": "stdout",
     "output_type": "stream",
     "text": [
      "Best Hyperparameter (GradientBoostingRegressor):\n",
      "{'learning_rate': 0.11, 'n_estimators': 100}\n",
      "training score: 0.3324\n"
     ]
    }
   ],
   "source": [
    "# Grid Search\n",
    "param_grid = {'learning_rate':[0.09,0.1,0.11],\n",
    "              'n_estimators':[100,200,300]}\n",
    "grid_gbr = GridSearchCV(GradientBoostingRegressor(), param_grid, cv=5, n_jobs=-1)\n",
    "grid_gbr.fit(X_train, y_train)\n",
    "train_score = grid_gbr.best_score_.round(4)\n",
    "\n",
    "print('Best Hyperparameter (GradientBoostingRegressor):')\n",
    "print(grid_gbr.best_params_)\n",
    "print(f'training score: {train_score}')"
   ]
  },
  {
   "cell_type": "code",
   "execution_count": 22,
   "metadata": {},
   "outputs": [
    {
     "name": "stdout",
     "output_type": "stream",
     "text": [
      "<GradientBoostingRegressor>\n",
      "testing score before fine tuning:\n",
      "0.1664\n",
      "testing score after  fine tuning:\n",
      "0.1652\n"
     ]
    }
   ],
   "source": [
    "# Compare to original parameters\n",
    "model_1 = GradientBoostingRegressor().fit(X_train, y_train)\n",
    "test_score_1 = model_1.score(X_test, y_test).round(4)\n",
    "\n",
    "model_2 = grid_gbr.best_estimator_\n",
    "test_score_2 = model_2.score(X_test, y_test).round(4)\n",
    "\n",
    "print('<GradientBoostingRegressor>')\n",
    "print('testing score before fine tuning:')\n",
    "print(test_score_1)\n",
    "print('testing score after  fine tuning:')\n",
    "print(test_score_2)"
   ]
  },
  {
   "cell_type": "markdown",
   "metadata": {},
   "source": [
    "# Conclusion\n",
    "\n",
    "Our findings can be summarized as follows:\n",
    "\n",
    "* The deletion of less important features did not lead to a better result so these features should be kept in the training set.\n",
    "\n",
    "* The GradientBoostingRegressor model with the default hyperparameters ('learning_rate': 0.1, 'n_estimators': 100) is the best model to predict the funding amount of the start-ups, and our final test score is around 16.6%."
   ]
  }
 ],
 "metadata": {
  "kernelspec": {
   "display_name": "Python 3",
   "language": "python",
   "name": "python3"
  },
  "language_info": {
   "codemirror_mode": {
    "name": "ipython",
    "version": 3
   },
   "file_extension": ".py",
   "mimetype": "text/x-python",
   "name": "python",
   "nbconvert_exporter": "python",
   "pygments_lexer": "ipython3",
   "version": "3.8.5"
  }
 },
 "nbformat": 4,
 "nbformat_minor": 4
}
